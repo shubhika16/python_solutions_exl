{
 "cells": [
  {
   "cell_type": "markdown",
   "metadata": {},
   "source": [
    "Q1. User input a string \"A\" having with length 10"
   ]
  },
  {
   "cell_type": "code",
   "execution_count": 1,
   "metadata": {},
   "outputs": [
    {
     "name": "stdout",
     "output_type": "stream",
     "text": [
      "please provide string of length 10:'qwertyqwer'\n",
      "qwertyqwer\n"
     ]
    }
   ],
   "source": [
    "A=input(\"please provide string of length 10:\")\n",
    "if len(A)!=10:\n",
    "    print(\"Error!\")\n",
    "else:\n",
    "    print(A)"
   ]
  },
  {
   "cell_type": "markdown",
   "metadata": {},
   "source": [
    "Q2. Create script to input two numbers x and y with following instruction:\n",
    "- add when user select 1, sub on 2, mul on 3, div 4 and power on 5(give options to select x^y or y^x)"
   ]
  },
  {
   "cell_type": "code",
   "execution_count": 10,
   "metadata": {},
   "outputs": [
    {
     "name": "stdout",
     "output_type": "stream",
     "text": [
      "enter number1 :2\n",
      "enter number2 :3\n",
      "select options from 1 to 5:5\n",
      "Choose power number1^number2 by entering 'a' otherwise 'b':\n",
      "'a'\n",
      "('The power of the given numbers :', 8)\n"
     ]
    }
   ],
   "source": [
    "x=int(input(\"enter number1 :\"))\n",
    "y=int(input(\"enter number2 :\"))\n",
    "s=int(input(\"select options from 1 to 5:\"))\n",
    "if s == 1:\n",
    "    sum=x+y\n",
    "    print(\"The sum of the given numbers :\",sum)\n",
    "elif s == 2:\n",
    "    sub=x-y\n",
    "    print(\"The difference of the given numbers :\",sub)\n",
    "elif s == 3:\n",
    "    mul=x*y\n",
    "    print(\"The product of the given numbers :\",mul)\n",
    "elif s == 4:\n",
    "    div=x/y\n",
    "    print(\"The quotient of the given numbers :\",div)\n",
    "elif s == 5:\n",
    "    print(\"Choose power number1^number2 by entering 'a' otherwise 'b':\")\n",
    "    choose= input()\n",
    "    if choose == 'a':\n",
    "        pow = x**y\n",
    "        print(\"The power of the given numbers :\",pow)\n",
    "    else:\n",
    "        pow = y**x\n",
    "        print(\"The power of the given numbers :\",pow)\n",
    "else:\n",
    "    print(\"number is not between 1 to 5\")\n"
   ]
  },
  {
   "cell_type": "markdown",
   "metadata": {},
   "source": [
    "Q3. Create a x tuple of size 6 and type cast it into list and stored result in variable b\n",
    "- in b insert a member at 2nd position"
   ]
  },
  {
   "cell_type": "code",
   "execution_count": 15,
   "metadata": {},
   "outputs": [
    {
     "data": {
      "text/plain": [
       "[1, 'a', 3, 4, 5, 6]"
      ]
     },
     "execution_count": 15,
     "metadata": {},
     "output_type": "execute_result"
    }
   ],
   "source": [
    "x=(1,2,3,4,5,6)\n",
    "b=list(x)\n",
    "b[1] = 'a'\n",
    "b"
   ]
  },
  {
   "cell_type": "markdown",
   "metadata": {},
   "source": [
    "Q4. Write a script to generate & print dictonary via user input, keys must be in numbers and values in strings"
   ]
  },
  {
   "cell_type": "code",
   "execution_count": 16,
   "metadata": {},
   "outputs": [
    {
     "name": "stdout",
     "output_type": "stream",
     "text": [
      "Please input a key: 1\n",
      "Plesse input a value: 'asd'\n",
      "{1: 'asd'}\n"
     ]
    }
   ],
   "source": [
    "k=int(input(\"Please input a key: \")) \n",
    "v=input(\"Plesse input a value: \") \n",
    "dictionary={k:v}\n",
    "print(dictionary)"
   ]
  },
  {
   "cell_type": "markdown",
   "metadata": {},
   "source": [
    "Q5. Write Script that accepts a sentence and calculate the number of letters and digits."
   ]
  },
  {
   "cell_type": "code",
   "execution_count": 20,
   "metadata": {},
   "outputs": [
    {
     "name": "stdout",
     "output_type": "stream",
     "text": [
      "Input a string'python session 2021'\n",
      "('Letters', 13)\n",
      "('Digits', 4)\n"
     ]
    }
   ],
   "source": [
    "a = input(\"Input a string\")\n",
    "d=l=0\n",
    "for x in a:\n",
    "    if x.isdigit():\n",
    "        d=d+1\n",
    "    elif x.isalpha():\n",
    "        l=l+1\n",
    "    else:\n",
    "        pass\n",
    "print(\"Letters\", l)\n",
    "print(\"Digits\", d)"
   ]
  },
  {
   "cell_type": "markdown",
   "metadata": {},
   "source": [
    "Q6: Write a Script to merge two lists into a dictionary"
   ]
  },
  {
   "cell_type": "markdown",
   "metadata": {},
   "source": [
    "Q7: Script to check validity a password on following points\n",
    "-length b/w 6-15\n",
    "-atleast one Uppercase, lowercase, digit and symbol(@,#,&,%,$)\n",
    "-no space allowed"
   ]
  },
  {
   "cell_type": "code",
   "execution_count": 34,
   "metadata": {},
   "outputs": [
    {
     "ename": "SyntaxError",
     "evalue": "invalid syntax (<ipython-input-34-5ce5825ed1fc>, line 6)",
     "output_type": "error",
     "traceback": [
      "\u001b[1;36m  File \u001b[1;32m\"<ipython-input-34-5ce5825ed1fc>\"\u001b[1;36m, line \u001b[1;32m6\u001b[0m\n\u001b[1;33m    elif:\u001b[0m\n\u001b[1;37m        ^\u001b[0m\n\u001b[1;31mSyntaxError\u001b[0m\u001b[1;31m:\u001b[0m invalid syntax\n"
     ]
    }
   ],
   "source": [
    "p = input(\"enter password:\")\n",
    "if len(p)<8 and len(p)>15:\n",
    "    print(\"length should be between 8-15\")\n",
    "elif \" \" in p:\n",
    "    print(\"no space allowed\")\n",
    "elif:\n",
    "    for x in p:\n",
    "        if x.isdigit():\n",
    "            pass\n",
    "        elif x.isupper():\n",
    "            pass\n",
    "        elif x in ['@','#','&','%','$']:\n",
    "            pass\n",
    "        elif x.islower():\n",
    "            pass\n",
    "        else:\n",
    "            print(\"atleast one Uppercase, lowercase, digit and symbol(@,#,&,%,$) required\")\n",
    "else:\n",
    "    print(\"password:\",p)"
   ]
  },
  {
   "cell_type": "markdown",
   "metadata": {},
   "source": [
    "Q8. Use a loop to display elements from a given list which are present at even positions"
   ]
  },
  {
   "cell_type": "code",
   "execution_count": null,
   "metadata": {},
   "outputs": [],
   "source": []
  }
 ],
 "metadata": {
  "kernelspec": {
   "display_name": "Python 2",
   "language": "python",
   "name": "python2"
  },
  "language_info": {
   "codemirror_mode": {
    "name": "ipython",
    "version": 2
   },
   "file_extension": ".py",
   "mimetype": "text/x-python",
   "name": "python",
   "nbconvert_exporter": "python",
   "pygments_lexer": "ipython2",
   "version": "2.7.15"
  }
 },
 "nbformat": 4,
 "nbformat_minor": 2
}
